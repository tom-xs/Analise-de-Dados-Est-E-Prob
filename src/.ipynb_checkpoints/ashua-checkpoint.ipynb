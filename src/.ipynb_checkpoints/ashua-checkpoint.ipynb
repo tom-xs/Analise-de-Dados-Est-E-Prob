{
 "cells": [
  {
   "cell_type": "markdown",
   "metadata": {},
   "source": [
    "<H1>Regressão Linear e Testes de Hipotese </H1>"
   ]
  },
  {
   "cell_type": "markdown",
   "metadata": {},
   "source": [
    "Nessa parte tentaremos encontrar uma equação que descreva a nota bruta dos estudantes do curso utilizando o metodo OLS(Ordinary least squares) para regressão linear<p>\n",
    "<b><font size = \"2\">obs.: iremos adotar $\\alpha_P = 10\\%$</font></b>"
   ]
  },
  {
   "cell_type": "markdown",
   "metadata": {},
   "source": [
    "O método OLS é uma técnica de otimização matemática que procura encontrar o melhor ajuste para um conjunto de dados tentando minimizar a soma dos quadrados das diferenças entre o valor estimado e os dados observados. É a forma de estimação mais amplamente utilizada na econometria. Consiste em um estimador que minimiza a soma dos quadrados dos resíduos da regressão, de forma a maximizar o grau de ajuste do modelo aos dados observados.<p>\n",
    "O modelo matematico para o método Ols é:<p>\n",
    "    $$y = \\alpha+\\beta x_1+\\epsilon$$\n",
    "onde:\n",
    "<ul>\n",
    "    <li>$y$ = Variável que queremos descrever</li>\n",
    "    <li>$x_1$ = Variável que usaremos para descrever $y$</li>\n",
    "    <li>$\\beta$ = coeficiente de $x$</li>\n",
    "    <li>$\\epsilon$ = erro, representa a variação de $y$ que o modelo não descreve</li>\n",
    "</ul>"
   ]
  },
  {
   "cell_type": "markdown",
   "metadata": {},
   "source": [
    "Inicialmente tentaremos descrever a Nota Bruta a partir das seguintes variáveis:<ul>\n",
    "    <li>Nota no componente especifico</li>\n",
    "    <li>Tipo de escola que o aluno cursou no ensino medio</li>\n",
    "    <li>Numero de pessoas que moram na mesma casa</li>\n",
    "    <li>Renda familiar total</li>\n",
    "    <li>Idade</li>\n",
    "</ul>"
   ]
  },
  {
   "cell_type": "code",
   "execution_count": 25,
   "metadata": {},
   "outputs": [],
   "source": [
    "resultado = sm.OLS(dados['NOTA BRUTA'],dados[['NOTA COMPONENTE ESPECÍFICO','ESCOLAEM','NPESSOASCASA','RENDAFAMILIA','IDADE']]).fit()"
   ]
  },
  {
   "cell_type": "code",
   "execution_count": 26,
   "metadata": {},
   "outputs": [
    {
     "name": "stdout",
     "output_type": "stream",
     "text": [
      "                                 OLS Regression Results                                \n",
      "=======================================================================================\n",
      "Dep. Variable:             NOTA BRUTA   R-squared (uncentered):                   0.995\n",
      "Model:                            OLS   Adj. R-squared (uncentered):              0.994\n",
      "Method:                 Least Squares   F-statistic:                              1226.\n",
      "Date:                Mon, 18 Nov 2019   Prob (F-statistic):                    1.22e-34\n",
      "Time:                        12:32:33   Log-Likelihood:                         -95.352\n",
      "No. Observations:                  36   AIC:                                      200.7\n",
      "Df Residuals:                      31   BIC:                                      208.6\n",
      "Df Model:                           5                                                  \n",
      "Covariance Type:            nonrobust                                                  \n",
      "==============================================================================================\n",
      "                                 coef    std err          t      P>|t|      [0.025      0.975]\n",
      "----------------------------------------------------------------------------------------------\n",
      "NOTA COMPONENTE ESPECÍFICO     0.8831      0.041     21.792      0.000       0.800       0.966\n",
      "ESCOLAEM                      -1.2331      1.382     -0.892      0.379      -4.052       1.586\n",
      "NPESSOASCASA                   0.2770      0.345      0.803      0.428      -0.427       0.981\n",
      "RENDAFAMILIA                  -0.0003      0.000     -0.947      0.351      -0.001       0.000\n",
      "IDADE                          0.4032      0.099      4.069      0.000       0.201       0.605\n",
      "==============================================================================\n",
      "Omnibus:                        1.596   Durbin-Watson:                   2.050\n",
      "Prob(Omnibus):                  0.450   Jarque-Bera (JB):                1.226\n",
      "Skew:                          -0.448   Prob(JB):                        0.542\n",
      "Kurtosis:                       2.883   Cond. No.                     9.53e+03\n",
      "==============================================================================\n",
      "\n",
      "Warnings:\n",
      "[1] Standard Errors assume that the covariance matrix of the errors is correctly specified.\n",
      "[2] The condition number is large, 9.53e+03. This might indicate that there are\n",
      "strong multicollinearity or other numerical problems.\n"
     ]
    }
   ],
   "source": [
    "print(resultado.summary())"
   ]
  },
  {
   "cell_type": "markdown",
   "metadata": {},
   "source": [
    "Vamos começar comentando os dados da primeira tabela apresentada. As medidas mais importantes para nós neste momento são o R² ajustado(R-squared), a estatística de teste F (F-statisc) e  o p-valor dessa estatística(Prob(F-statistic)) <p>\n",
    "<ul>\n",
    "    <li>O valor R² nos mostra o quanto esse modelo explica as variaveis, nesse caso $R^2 = 99.5\\%$, ou seja, o modelo escolhido descreve muito bem a Nota Bruta</li>\n",
    "    <li>a estatística de teste F e seu p-valor $< 0.001$ basicamente nos mostram que esse modelo é estatisticamente válido</li>\n",
    "</ul>"
   ]
  },
  {
   "cell_type": "markdown",
   "metadata": {},
   "source": [
    "analisando os coeficientes obtidos pela função <b>OLS</b> teremos a seguinte equação\n",
    "$$y = 0.8831x_1-1.2331x_2+0.277x_3-0.0003x_4+0.4032x_5+1.867$$\n",
    "<p>onde:<ul>\n",
    "    <li>$y$ = Nota Bruta</li>\n",
    "    <li>$x_1$ = Nota Componente Específico</li>\n",
    "    <li>$x_2$ = Tipo de escola que cursou no Ensino Médio</li>\n",
    "    <li>$x_3$ = Número de pessoas que moram na mesma casa</li>\n",
    "    <li>$x_4$ = Renda total familiar</li>\n",
    "    <li>$x_5$ = Idade</li>\n",
    "    <li>$1.867$ = soma de todos os erros</li>\n",
    "</ul>\n",
    "    "
   ]
  },
  {
   "cell_type": "markdown",
   "metadata": {},
   "source": [
    "porém, vemos alguns problemas com as variáveis escolhidas devido aos avisos dados na tabela. Tentaremos econtrar um novo modelo matematico que descreva a nota bruta removendo os dados imprecisos."
   ]
  },
  {
   "cell_type": "markdown",
   "metadata": {},
   "source": [
    "para sabermos quais dados válidos para a nova regressão iremos analisar a coluna $P > |t|$, pois quanto mais proximo seu valor de 0 mais relevante esse coeficiente é no modelo adotado,e como adotamos $\\alpha_p = 10\\%$, iremos remover as variaveis que não atendem a esse criterio (ESCOLAEM ,NPESSOASCASA , RENDAFAMILIA)"
   ]
  },
  {
   "cell_type": "code",
   "execution_count": 46,
   "metadata": {},
   "outputs": [],
   "source": [
    "resultado = sm.OLS(dados['NOTA BRUTA'],dados[['NOTA COMPONENTE ESPECÍFICO','IDADE']]).fit()"
   ]
  },
  {
   "cell_type": "code",
   "execution_count": 47,
   "metadata": {},
   "outputs": [
    {
     "name": "stdout",
     "output_type": "stream",
     "text": [
      "                                 OLS Regression Results                                \n",
      "=======================================================================================\n",
      "Dep. Variable:             NOTA BRUTA   R-squared (uncentered):                   0.995\n",
      "Model:                            OLS   Adj. R-squared (uncentered):              0.994\n",
      "Method:                 Least Squares   F-statistic:                              3109.\n",
      "Date:                Mon, 18 Nov 2019   Prob (F-statistic):                    3.18e-39\n",
      "Time:                        15:02:08   Log-Likelihood:                         -96.746\n",
      "No. Observations:                  36   AIC:                                      197.5\n",
      "Df Residuals:                      34   BIC:                                      200.7\n",
      "Df Model:                           2                                                  \n",
      "Covariance Type:            nonrobust                                                  \n",
      "==============================================================================================\n",
      "                                 coef    std err          t      P>|t|      [0.025      0.975]\n",
      "----------------------------------------------------------------------------------------------\n",
      "NOTA COMPONENTE ESPECÍFICO     0.8799      0.040     22.258      0.000       0.800       0.960\n",
      "IDADE                          0.3511      0.072      4.881      0.000       0.205       0.497\n",
      "==============================================================================\n",
      "Omnibus:                        0.719   Durbin-Watson:                   2.198\n",
      "Prob(Omnibus):                  0.698   Jarque-Bera (JB):                0.739\n",
      "Skew:                          -0.302   Prob(JB):                        0.691\n",
      "Kurtosis:                       2.644   Cond. No.                         6.80\n",
      "==============================================================================\n",
      "\n",
      "Warnings:\n",
      "[1] Standard Errors assume that the covariance matrix of the errors is correctly specified.\n"
     ]
    }
   ],
   "source": [
    "print(resultado.summary())"
   ]
  },
  {
   "cell_type": "markdown",
   "metadata": {},
   "source": [
    "logo, analisando os novos coeficientes obtidos teremos a seguinte equação<p>\n",
    "    $$y = 0.8799x_1+0.3511x_2+0.112$$\n",
    "onde<ul>\n",
    "    <li>$y$ = Nota Bruta</li>\n",
    "    <li>$x_1$ = Nota Componente Específico</li>\n",
    "    <li>$x_2$ = Idade</li>\n",
    "    <li>$0.112$ = soma dos erros</li>\n",
    "</ul>"
   ]
  },
  {
   "cell_type": "markdown",
   "metadata": {},
   "source": [
    "igualmente ao que fizemos na primeira análise iremos comentar os dados da tabela apresentada.<p>\n",
    "<ul>\n",
    "    <li>$R² = 99.5\\%$, ou seja, o modelo continua descrevendo muito bem a Nota Bruta</li>\n",
    "    <li>temos a estatística de teste F e seu p-valor $< 0.001$ porém, nesse caso o valor de Prob(f) é ainda menor que o mostrado na primeira análise, o que nos indica que as variáveis usadas nessa nova regressão são ainda mais estatisticamente validos que os anteriores</li>\n",
    "</ul>"
   ]
  },
  {
   "cell_type": "markdown",
   "metadata": {},
   "source": [
    "***"
   ]
  }
 ],
 "metadata": {
  "kernelspec": {
   "display_name": "Python 3",
   "language": "python",
   "name": "python3"
  },
  "language_info": {
   "codemirror_mode": {
    "name": "ipython",
    "version": 3
   },
   "file_extension": ".py",
   "mimetype": "text/x-python",
   "name": "python",
   "nbconvert_exporter": "python",
   "pygments_lexer": "ipython3",
   "version": "3.7.3"
  }
 },
 "nbformat": 4,
 "nbformat_minor": 4
}
